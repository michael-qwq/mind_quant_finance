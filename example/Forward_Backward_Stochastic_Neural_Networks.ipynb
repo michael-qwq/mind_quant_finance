{
 "cells": [
  {
   "cell_type": "markdown",
   "id": "b4d8f679",
   "metadata": {},
   "source": [
    "##### Copyright 2022 Huawei TECHNOLOGIES CO.LTD\n",
    "\n",
    "Licensed under the Apache License, Version 2.0 (the \"License\");"
   ]
  },
  {
   "cell_type": "code",
   "execution_count": 1,
   "id": "0948a3a7",
   "metadata": {},
   "outputs": [],
   "source": [
    "#@title Licensed under the Apache License, Version 2.0 (the \"License\"); { display-mode: \"form\" }\n",
    "# you may not use this file except in compliance with the License.\n",
    "# You may obtain a copy of the License at\n",
    "#\n",
    "# https://www.apache.org/licenses/LICENSE-2.0\n",
    "#\n",
    "# Unless required by applicable law or agreed to in writing, software\n",
    "# distributed under the License is distributed on an \"AS IS\" BASIS,\n",
    "# WITHOUT WARRANTIES OR CONDITIONS OF ANY KIND, either express or implied.\n",
    "# See the License for the specific language governing permissions and\n",
    "# limitations under the License."
   ]
  },
  {
   "cell_type": "markdown",
   "id": "c2530c56",
   "metadata": {},
   "source": [
    "# 使用BSDESolver求解Forward-Backward SDE问题"
   ]
  },
  {
   "cell_type": "code",
   "execution_count": 2,
   "id": "281c6c1f",
   "metadata": {},
   "outputs": [],
   "source": [
    "# !pip install --upgrade mindspore\n",
    "# !pip install mind-quant-finance"
   ]
  },
  {
   "cell_type": "code",
   "execution_count": 3,
   "id": "5fa2c4c9",
   "metadata": {},
   "outputs": [
    {
     "name": "stdout",
     "output_type": "stream",
     "text": [
      "Obtaining file:///home/michael/Documents/MindFinance/mind-quant/mind-quant-finance_1\n",
      "Requirement already satisfied: numpy in /home/michael/anaconda3/lib/python3.9/site-packages (from MindQuantFinance==0.0.1) (1.21.5)\n",
      "Installing collected packages: MindQuantFinance\n",
      "  Attempting uninstall: MindQuantFinance\n",
      "    Found existing installation: MindQuantFinance 0.0.1\n",
      "    Uninstalling MindQuantFinance-0.0.1:\n",
      "      Successfully uninstalled MindQuantFinance-0.0.1\n",
      "  Running setup.py develop for MindQuantFinance\n",
      "Successfully installed MindQuantFinance-0.0.1\n"
     ]
    }
   ],
   "source": [
    "# @title temporary install\n",
    "!pip install -e. --upgrade"
   ]
  },
  {
   "cell_type": "code",
   "execution_count": 4,
   "id": "7b3e0ac5",
   "metadata": {},
   "outputs": [],
   "source": [
    "#@title Imports\n",
    "\n",
    "from typing import Optional\n",
    "\n",
    "import matplotlib.pyplot as plt\n",
    "\n",
    "import mindspore as ms\n",
    "import mindspore.numpy as np\n",
    "from mindspore import nn\n",
    "from mindspore import dtype as mstype\n",
    "\n",
    "\n",
    "from mind_quant_finance.engine.nn.bsde_solver import BSDESolver"
   ]
  },
  {
   "cell_type": "markdown",
   "id": "04665f9c",
   "metadata": {},
   "source": [
    "### Forward-Backward SDE问题定义"
   ]
  },
  {
   "cell_type": "markdown",
   "id": "c7c07c9c",
   "metadata": {},
   "source": [
    "Forward-Backward SDE问题(Forward-Backward Stochastic Differential Equation, BSDE)的一般定义为：\n",
    "\n",
    "设$\\{X_t\\},\\{Y_t\\},\\{Z_t\\}$为待求解的随机过程，若$X_t,Y_t,Z_t$满足以下条件：\n",
    "\n",
    "$$dX_t = \\mu(t,X_t,Y_t,Z_t)dt+\\sigma(t,X_t,Y_t)dW_t, t\\in [0,T]$$\n",
    "\n",
    "$$X_0=\\xi$$\n",
    "\n",
    "$$dY_t=\\phi(t,X_t,Y_t,Z_t)dt+Z^T\\sigma(t,X_t,Y_t)dW_t, t\\in[0,T)$$\n",
    "\n",
    "$$Y_T=g(X_Y)$$\n",
    "\n",
    "其中$W_t$为标准布朗运动，则称上述问题为Forward-Backward SDE(BSDE)问题。可以看到，BSDE问题由两个SDE等式与两个边界条件组成。其中关于$X_t$的边界条件为其初值$\\xi$，而关于$Y_t$的边界条件位于$t=T$，形式为其与$X_T$的关系。\n",
    "\n",
    "\n",
    "不难发现，大量金融衍生品相关的问题符合BSDE问题的形式。例如，若将标的的价值设为$X_t$，则第一个SDE方程是对标的价值变化的建模，第一个边界条件即标的的初始价值。与之相应的，设$Y_t$为衍生品价值，则第二个SDE方程描述了衍生品的价值变化，而第二个边界条件则为到期日标的与衍生品之间的价值关系。通过求解BSDE方程组，我们可以获得从初始日期到到期日之间任意时刻标的和衍生品的价值。特别的，我们额外关心初始日期时衍生品的价值。"
   ]
  },
  {
   "cell_type": "markdown",
   "id": "c8dd0724",
   "metadata": {},
   "source": [
    "### BSDESolver: 使用神经网络求解BSDE问题"
   ]
  },
  {
   "cell_type": "markdown",
   "id": "5d586b55",
   "metadata": {},
   "source": [
    "通过一定的数学变换后，BSDE问题可以转化为一个二次PDE问题:\n",
    "\n",
    "$$p_t = f(t,X,u,Du,D^2u)$$\n",
    "\n",
    "$$p_t=f(t,x,y,z,\\gamma)=\\phi(t,x,y,z)-\\mu(t,x,y,z)^Tz-\\frac{1}{2}Tr[\\sigma(t,x,y)\\sigma(t,x,y)^T\\gamma]$$\n",
    "\n",
    "其中$D,D^2$表示一阶微分与二阶微分(对$X_t$)，$u=u(t,X_t)$为一个未知解，且满足：\n",
    "\n",
    "$$u(T,X_T)=g(X_T)$$\n",
    "\n",
    "显然，$u(T,X_T)$与$Y_t,Z_t$之间的对应关系为：\n",
    "\n",
    "$$Y_t=u(t,X_t)$$\n",
    "\n",
    "$$Z_t=Du(t,X_t)$$\n",
    "\n",
    "简单来说，我们找到了一个特定的解形式，其满足$f(t,X_t,Y_t,Z_t,\\gamma)=u(t,X_t,u(t,X_t),Du(t,X_t),\\gamma)$。考虑到$u(t,X_t)$是一个未知解，因此我们使用神经网络进行拟合。显然，使用MindSpore的自动微分功能能够很方便的求解$Du(t,X_t)$。然后，我们可以使用Euler-Maruyama范式生成时间序列：\n",
    "\n",
    "$$\\hat{X_{t+\\Delta t}}=\\hat{X_t} + \\mu(t,\\hat{X_t},u_t,Du_t)\\Delta t + \\sigma(t, \\hat{X_t},u_t)\\Delta W$$\n",
    "\n",
    "$$\\hat{Y_{t+\\Delta t}}=\\hat{Y_t} + \\phi(t,\\hat{X_t},u_t,Du_t)\\Delta t + (Du_t)^T\\sigma(t, \\hat{X_t},u_t)\\Delta W$$\n",
    "\n",
    "$$\\hat{X_0}=\\xi$$\n",
    "\n",
    "$$\\Delta W \\sim N(0, \\Delta t)$$\n",
    "\n",
    "损失函数包含两部分，一部分用于衡量边界条件，而另一部分用于衡量路经生成的准确度。设$S$为时间戳集合，$S=[s_1,s_2...s_N]$\n",
    "，则：\n",
    "\n",
    "$$Loss = \\beta BoundLoss + \\sum_{i=1}^{N-1} |dis(s_i)|^2$$\n",
    "\n",
    "$$BoundLoss=|Y_{s_N}-g(\\hat{X_{s_N}})|^2 + |DY_{s_N} - Dg(\\hat{X_{s_N}})|^2$$\n",
    "\n",
    "$$dis(s_i)=(Y_{s_{i+1}}-Y_{s_i})-(\\hat{Y_{s_{i+1}}}-\\hat{Y_{s_i}})$$\n",
    "\n",
    "\n",
    "$$Y(s) = u(s, \\hat{X_s})$$\n",
    "\n",
    "其中$\\beta$为超参数，用于调整路径生成精度与边界条件满足度之间的权重。"
   ]
  },
  {
   "cell_type": "markdown",
   "id": "2a5baf77",
   "metadata": {},
   "source": [
    "### 案例：Black-Scholes-Barenblatt Equation"
   ]
  },
  {
   "cell_type": "markdown",
   "id": "f4862f60",
   "metadata": {},
   "source": [
    "Black-Scholes-Barenblatt Equation是一个典型的BSDE问题，其具体形式如下：\n",
    "\n",
    "$$dX_t = \\sigma Diag(X_t)dW_t, t\\in[0,T]$$ \n",
    "\n",
    "$$X_i=\\xi$$ \n",
    "\n",
    "$$dY_t=r(Y_t-Z^T_tX_t)dt + \\sigma Z_t^T Diag(X_t) dW_t, t\\in[0,T)$$\n",
    "\n",
    "$$Y_T=g(X_T)=||X_T||^2$$\n",
    "\n",
    "对于Black-Scholes-Barenblatt等式，$u(t,X_t)$有解析解：\n",
    "\n",
    "$$u(t,X_t)=exp((r+\\sigma^2)(T-t))g(x)$$"
   ]
  },
  {
   "cell_type": "markdown",
   "id": "f3c99743",
   "metadata": {},
   "source": [
    "### 使用MindQuantFinance BSDESolver解决Black-Scholes-Barenblatt Equation in 100D"
   ]
  },
  {
   "cell_type": "code",
   "execution_count": 5,
   "id": "36c6b2d6",
   "metadata": {},
   "outputs": [],
   "source": [
    "# class BSDESolver(ABC):\n",
    "#     def __init__(self, batch_size: int,\n",
    "#                  terminal_time: float,\n",
    "#                  n_time: int,\n",
    "#                  dim: int,\n",
    "#                  r0: ms.Tensor,\n",
    "#                  param: Optional[dict] = None,\n",
    "#                  weight_g: Optional[float] = 1,\n",
    "#                  net_depth: Optional[int] = 4,\n",
    "#                  net_hidden_dim: Optional[int] = 256,\n",
    "#                  net_activation: Optional[nn.Cell] = nn.Tanh(),\n",
    "#                  net_initializer: Optional[str] = 'Normal',\n",
    "#                  seed: Optional[int] = 0,\n",
    "#                  random_type: Optional[int] = 0,\n",
    "#                  dtype=mstype.float32\n",
    "#                  ):\n",
    "#     def get_path_state(self):\n",
    "#     def train(self, epochs, learning_rate, per_print_times=100, verbose=True):\n",
    "#     def approximate_path(self, et, ew):  \n",
    "#     def approximate_solution(self, et, ex): \n",
    "#     @abstractmethod\n",
    "#     def mu_fn(self, t, x, f, grad_f, param): \n",
    "#     def sigma_fn(self, t, x, f, param):  \n",
    "#     def phi_fn(self, t, x, f, grad_f, param): \n",
    "#     def g_fn(self, x, param): "
   ]
  },
  {
   "cell_type": "markdown",
   "id": "f3f6e99e",
   "metadata": {},
   "source": [
    "mind_quant_finance中的BSDESolver的结构与方法如上所示。详细的参数含义可以见具体的封装类说明。这里对参数与方法做一个概述。\n",
    "\n",
    "BSDESolver中比较重要的参数包括：\n",
    "\n",
    " - batch_size: 求解时的批大小。\n",
    " - terminal_time：终止时间，即BSDE问题中的$T$。\n",
    " - n_time: 时间戳的数量。注意$t=0$不包括在其中，$X_0,Y_0$会自动加入生成序列中。\n",
    " - dim：随机过程的维度，即$X_t$,$Y_t$,$Z_t$的维度。\n",
    " - r0：初始状态$\\xi$\n",
    " - param：字典，里面包含求解$\\mu$, $\\sigma$, $\\phi$, $g$所需要的自定义工具(具体见后文)。\n",
    " - weight_g：损失函数中的权重参数，即损失函数中的$\\beta$。\n",
    " \n",
    "BSDESolver中另一个重要的部分是mu_fn, sigma_fn, phi_fn, g_fn。这些函数被设置为一个抽象类。也就是说，当用户使用BSDESolver时，需要自定义BSDESolver的一个子类，并在子类中对上述函数进行具体化。特别的，param字典用于向这些函数中传入必要的求解变量与工具。\n",
    "\n",
    "下面我们为Black-Scholes-Barenblatt Equation定义BSDESolver的子类BSDESolver_BlackScholesBarenblatt。为了求解方便，先定义两个“工具”，一个是Sin(x)激活函数，另一个用于实现$Diag(X)$操作。"
   ]
  },
  {
   "cell_type": "code",
   "execution_count": 6,
   "id": "93d79e36",
   "metadata": {},
   "outputs": [],
   "source": [
    " # This Block is used to generate sin activation function.\n",
    "class BSDESolver_Sin(nn.Cell):\n",
    "    def __init__(self):\n",
    "        super(BSDESolver_Sin, self).__init__()\n",
    "\n",
    "    def construct(self, x):\n",
    "        return np.sin(x)\n",
    "\n",
    "\n",
    "# This Block is used to generate a matrix which can be used in matrix_diag transformation.\n",
    "class BSDESolver_DiagMatrix:\n",
    "\n",
    "    def __init__(self, dtype=mstype.float32):\n",
    "        self.dtype = dtype\n",
    "\n",
    "    def get_matrix_diag(self, dim, batch):\n",
    "        # get a matrix to transfer the vector to diag matrix\n",
    "        # Usage:\n",
    "        # suppose vec.shape = (batch, D)\n",
    "        # matrix_diag.shape = (batch, D, D, D)\n",
    "        # broad_cast: vec_d = (batch, <D>, D, <1>)\n",
    "        # then MATMUL(matrix_diag, vec_d).shape = (batch, D, D, 1)\n",
    "        # while (D, D) is the diag matrix\n",
    "        matrix_diag = np.zeros((dim, dim, dim))\n",
    "        for i in range(dim):\n",
    "            matrix_diag[i, i, i] = 1.0\n",
    "        matrix_diag = np.expand_dims(matrix_diag, axis=0)\n",
    "        matrix_diag = np.repeat(matrix_diag, batch, axis=0).astype(self.dtype)\n",
    "        return matrix_diag"
   ]
  },
  {
   "cell_type": "markdown",
   "id": "f74746c2",
   "metadata": {},
   "source": [
    "设$\\sigma$为0.4，$\\mu$为0.05，dim为100，batch_size为64，则传入param的工具定义为："
   ]
  },
  {
   "cell_type": "code",
   "execution_count": 7,
   "id": "f26c5af8",
   "metadata": {},
   "outputs": [],
   "source": [
    "dim = 100\n",
    "batch_size = 64\n",
    "diag_matrix_generator = BSDESolver_DiagMatrix()\n",
    "param_dict = {'matrix_diag': diag_matrix_generator.get_matrix_diag(dim, batch_size),\n",
    "              'volatility': 0.4, 'no_risk_rate': 0.05}"
   ]
  },
  {
   "cell_type": "markdown",
   "id": "59b27e0d",
   "metadata": {},
   "source": [
    "则根据BlackScholesBarenblatt问题的形式，定义BSDESolver_BlackScholesBarenblatt类如下(具体化$\\mu$,$\\sigma$,$\\phi$,$g$)："
   ]
  },
  {
   "cell_type": "code",
   "execution_count": 8,
   "id": "0019a613",
   "metadata": {},
   "outputs": [],
   "source": [
    "# BSDESolver_BlackScholesBarenblatt Model, Inherited from BSDESolver\n",
    "class BSDESolver_BlackScholesBarenblatt(BSDESolver):\n",
    "    def __init__(self, batch_size: int, terminal_time: float, n_time: int,\n",
    "                 dim: int, r0: ms.Tensor, param: Optional[dict] = None,\n",
    "                 weight_g: Optional[float] = 1,\n",
    "                 net_depth: Optional[int] = 4,\n",
    "                 net_hidden_dim: Optional[int] = 256,\n",
    "                 net_activation: Optional[nn.Cell] = nn.Tanh(),\n",
    "                 net_initializer: Optional[str] = 'Normal',\n",
    "                 seed: Optional[int] = 0,\n",
    "                 random_type: Optional[int] = 0,\n",
    "                 dtype=mstype.float32\n",
    "                 ):\n",
    "        super().__init__(batch_size, terminal_time, n_time, dim, r0, param, weight_g,\n",
    "                         net_depth, net_hidden_dim, net_activation, net_initializer,\n",
    "                         seed, random_type, dtype)\n",
    "        test_param_keys = ['matrix_diag', 'volatility', 'no_risk_rate']\n",
    "        for key in test_param_keys:\n",
    "            if key not in param.keys():\n",
    "                raise AttributeError(\"Some Parameter For Calculation Miss.\")\n",
    "\n",
    "    def mu_fn(self, t, x, f, grad, param):\n",
    "        return np.zeros(x.shape, dtype=self.dtype)\n",
    "\n",
    "    def sigma_fn(self, t, x, f, param):\n",
    "        x_d = np.expand_dims(np.expand_dims(x, axis=-1), axis=1)\n",
    "        x_d = np.repeat(x_d, self.dim, axis=1)\n",
    "        sigma = np.matmul(param['matrix_diag'], x_d)\n",
    "        sigma = param['volatility'] * np.squeeze(sigma, axis=-1)\n",
    "        return sigma\n",
    "\n",
    "    def phi_fn(self, t, x, f, grad_f, param):\n",
    "        return param['no_risk_rate'] * (f - np.expand_dims(\n",
    "            (x * grad_f).sum(axis=1), axis=-1))\n",
    "\n",
    "    def g_fn(self, x, param):\n",
    "        return np.expand_dims((x * x).sum(axis=1), axis=1)"
   ]
  },
  {
   "cell_type": "markdown",
   "id": "0078b769",
   "metadata": {},
   "source": [
    "我们设置terminal_time为1.0，n_time为50，r0为[1.0, 0.5, 1.0, 0.5....], weight_g为0.1。关于神经网络的结构，我们将其设置为4层MLP，其中隐藏层的维度为512，并使用Sin(x)作为激活函数，XavierUniform进行初始化："
   ]
  },
  {
   "cell_type": "code",
   "execution_count": 9,
   "id": "01c91ce5",
   "metadata": {},
   "outputs": [],
   "source": [
    "terminal_time = 1.0\n",
    "n_time = 50\n",
    "r00 = np.array([1.0, 0.5] * int(dim / 2))[None, :]\n",
    "weight_g = 0.1\n",
    "net_depth = 4\n",
    "net_hidden_dim = 512\n",
    "net_initializer = 'XavierUniform'\n",
    "net_activation = BSDESolver_Sin()\n",
    "bsb_model = BSDESolver_BlackScholesBarenblatt(batch_size=batch_size,\n",
    "                                              terminal_time=terminal_time, n_time=n_time,\n",
    "                                              dim=dim, r0=r00, param=param_dict, weight_g=weight_g,\n",
    "                                              net_depth=net_depth,\n",
    "                                              net_hidden_dim=net_hidden_dim,\n",
    "                                              net_activation=net_activation,\n",
    "                                              net_initializer=net_initializer,\n",
    "                                              seed=0\n",
    "                                             )"
   ]
  },
  {
   "cell_type": "markdown",
   "id": "4b4641cf",
   "metadata": {},
   "source": [
    "调用get_path_state()方法即可生成时间戳序列和累加布朗变量序列："
   ]
  },
  {
   "cell_type": "code",
   "execution_count": 10,
   "id": "021d19ea",
   "metadata": {},
   "outputs": [
    {
     "name": "stdout",
     "output_type": "stream",
     "text": [
      "(64, 51, 100)\n",
      "[ 0.03560384  0.02463679  0.15634952 -0.05092085 -0.07928148 -0.04546742\n",
      "  0.01190416  0.11251857  0.09321497 -0.05842454]\n"
     ]
    }
   ],
   "source": [
    "times, ew = bsb_model.get_path_state()\n",
    "print(ew.shape)\n",
    "print(ew[0,0,:10])"
   ]
  },
  {
   "cell_type": "markdown",
   "id": "53bafb27",
   "metadata": {},
   "source": [
    "设置训练的epochs数以及学习率lr，调用train()方法即可开始训练。"
   ]
  },
  {
   "cell_type": "code",
   "execution_count": 11,
   "id": "79c19241",
   "metadata": {},
   "outputs": [],
   "source": [
    "# 2-WARNING ; 3-ERROR\n",
    "!export GLOG_v=3"
   ]
  },
  {
   "cell_type": "code",
   "execution_count": 12,
   "id": "b8067172",
   "metadata": {},
   "outputs": [
    {
     "name": "stderr",
     "output_type": "stream",
     "text": [
      "[WARNING] OPTIMIZER(5157,7f4ea5abc740,python):2022-12-08-15:47:09.420.186 [mindspore/ccsrc/frontend/optimizer/ad/dfunctor.cc:875] GetPrimalUser] It is recommended to call the forward network only once.\n",
      "[WARNING] OPTIMIZER(5157,7f4ea5abc740,python):2022-12-08-15:47:09.420.207 [mindspore/ccsrc/frontend/optimizer/ad/dfunctor.cc:875] GetPrimalUser] It is recommended to call the forward network only once.\n",
      "[WARNING] OPTIMIZER(5157,7f4ea5abc740,python):2022-12-08-15:47:09.420.210 [mindspore/ccsrc/frontend/optimizer/ad/dfunctor.cc:875] GetPrimalUser] It is recommended to call the forward network only once.\n",
      "[WARNING] OPTIMIZER(5157,7f4ea5abc740,python):2022-12-08-15:47:09.420.213 [mindspore/ccsrc/frontend/optimizer/ad/dfunctor.cc:875] GetPrimalUser] It is recommended to call the forward network only once.\n",
      "[WARNING] OPTIMIZER(5157,7f4ea5abc740,python):2022-12-08-15:47:09.420.215 [mindspore/ccsrc/frontend/optimizer/ad/dfunctor.cc:875] GetPrimalUser] It is recommended to call the forward network only once.\n",
      "[WARNING] OPTIMIZER(5157,7f4ea5abc740,python):2022-12-08-15:47:09.420.218 [mindspore/ccsrc/frontend/optimizer/ad/dfunctor.cc:875] GetPrimalUser] It is recommended to call the forward network only once.\n",
      "[WARNING] OPTIMIZER(5157,7f4ea5abc740,python):2022-12-08-15:47:09.420.220 [mindspore/ccsrc/frontend/optimizer/ad/dfunctor.cc:875] GetPrimalUser] It is recommended to call the forward network only once.\n",
      "[WARNING] OPTIMIZER(5157,7f4ea5abc740,python):2022-12-08-15:47:09.420.223 [mindspore/ccsrc/frontend/optimizer/ad/dfunctor.cc:875] GetPrimalUser] It is recommended to call the forward network only once.\n",
      "[WARNING] OPTIMIZER(5157,7f4ea5abc740,python):2022-12-08-15:47:09.420.226 [mindspore/ccsrc/frontend/optimizer/ad/dfunctor.cc:875] GetPrimalUser] It is recommended to call the forward network only once.\n",
      "[WARNING] OPTIMIZER(5157,7f4ea5abc740,python):2022-12-08-15:47:09.420.228 [mindspore/ccsrc/frontend/optimizer/ad/dfunctor.cc:875] GetPrimalUser] It is recommended to call the forward network only once.\n",
      "[WARNING] OPTIMIZER(5157,7f4ea5abc740,python):2022-12-08-15:47:09.420.231 [mindspore/ccsrc/frontend/optimizer/ad/dfunctor.cc:875] GetPrimalUser] It is recommended to call the forward network only once.\n",
      "[WARNING] OPTIMIZER(5157,7f4ea5abc740,python):2022-12-08-15:47:09.420.233 [mindspore/ccsrc/frontend/optimizer/ad/dfunctor.cc:875] GetPrimalUser] It is recommended to call the forward network only once.\n",
      "[WARNING] OPTIMIZER(5157,7f4ea5abc740,python):2022-12-08-15:47:09.420.236 [mindspore/ccsrc/frontend/optimizer/ad/dfunctor.cc:875] GetPrimalUser] It is recommended to call the forward network only once.\n",
      "[WARNING] OPTIMIZER(5157,7f4ea5abc740,python):2022-12-08-15:47:09.420.239 [mindspore/ccsrc/frontend/optimizer/ad/dfunctor.cc:875] GetPrimalUser] It is recommended to call the forward network only once.\n",
      "[WARNING] OPTIMIZER(5157,7f4ea5abc740,python):2022-12-08-15:47:09.420.241 [mindspore/ccsrc/frontend/optimizer/ad/dfunctor.cc:875] GetPrimalUser] It is recommended to call the forward network only once.\n",
      "[WARNING] OPTIMIZER(5157,7f4ea5abc740,python):2022-12-08-15:47:09.420.244 [mindspore/ccsrc/frontend/optimizer/ad/dfunctor.cc:875] GetPrimalUser] It is recommended to call the forward network only once.\n",
      "[WARNING] OPTIMIZER(5157,7f4ea5abc740,python):2022-12-08-15:47:09.420.246 [mindspore/ccsrc/frontend/optimizer/ad/dfunctor.cc:875] GetPrimalUser] It is recommended to call the forward network only once.\n",
      "[WARNING] OPTIMIZER(5157,7f4ea5abc740,python):2022-12-08-15:47:09.420.249 [mindspore/ccsrc/frontend/optimizer/ad/dfunctor.cc:875] GetPrimalUser] It is recommended to call the forward network only once.\n",
      "[WARNING] OPTIMIZER(5157,7f4ea5abc740,python):2022-12-08-15:47:09.420.251 [mindspore/ccsrc/frontend/optimizer/ad/dfunctor.cc:875] GetPrimalUser] It is recommended to call the forward network only once.\n",
      "[WARNING] OPTIMIZER(5157,7f4ea5abc740,python):2022-12-08-15:47:09.420.254 [mindspore/ccsrc/frontend/optimizer/ad/dfunctor.cc:875] GetPrimalUser] It is recommended to call the forward network only once.\n",
      "[WARNING] OPTIMIZER(5157,7f4ea5abc740,python):2022-12-08-15:47:09.420.256 [mindspore/ccsrc/frontend/optimizer/ad/dfunctor.cc:875] GetPrimalUser] It is recommended to call the forward network only once.\n",
      "[WARNING] OPTIMIZER(5157,7f4ea5abc740,python):2022-12-08-15:47:09.420.260 [mindspore/ccsrc/frontend/optimizer/ad/dfunctor.cc:875] GetPrimalUser] It is recommended to call the forward network only once.\n",
      "[WARNING] OPTIMIZER(5157,7f4ea5abc740,python):2022-12-08-15:47:09.420.262 [mindspore/ccsrc/frontend/optimizer/ad/dfunctor.cc:875] GetPrimalUser] It is recommended to call the forward network only once.\n",
      "[WARNING] OPTIMIZER(5157,7f4ea5abc740,python):2022-12-08-15:47:09.420.265 [mindspore/ccsrc/frontend/optimizer/ad/dfunctor.cc:875] GetPrimalUser] It is recommended to call the forward network only once.\n",
      "[WARNING] OPTIMIZER(5157,7f4ea5abc740,python):2022-12-08-15:47:09.420.267 [mindspore/ccsrc/frontend/optimizer/ad/dfunctor.cc:875] GetPrimalUser] It is recommended to call the forward network only once.\n",
      "[WARNING] OPTIMIZER(5157,7f4ea5abc740,python):2022-12-08-15:47:09.420.270 [mindspore/ccsrc/frontend/optimizer/ad/dfunctor.cc:875] GetPrimalUser] It is recommended to call the forward network only once.\n",
      "[WARNING] OPTIMIZER(5157,7f4ea5abc740,python):2022-12-08-15:47:09.420.272 [mindspore/ccsrc/frontend/optimizer/ad/dfunctor.cc:875] GetPrimalUser] It is recommended to call the forward network only once.\n",
      "[WARNING] OPTIMIZER(5157,7f4ea5abc740,python):2022-12-08-15:47:09.420.275 [mindspore/ccsrc/frontend/optimizer/ad/dfunctor.cc:875] GetPrimalUser] It is recommended to call the forward network only once.\n",
      "[WARNING] OPTIMIZER(5157,7f4ea5abc740,python):2022-12-08-15:47:09.420.277 [mindspore/ccsrc/frontend/optimizer/ad/dfunctor.cc:875] GetPrimalUser] It is recommended to call the forward network only once.\n",
      "[WARNING] OPTIMIZER(5157,7f4ea5abc740,python):2022-12-08-15:47:09.420.280 [mindspore/ccsrc/frontend/optimizer/ad/dfunctor.cc:875] GetPrimalUser] It is recommended to call the forward network only once.\n",
      "[WARNING] OPTIMIZER(5157,7f4ea5abc740,python):2022-12-08-15:47:09.420.283 [mindspore/ccsrc/frontend/optimizer/ad/dfunctor.cc:875] GetPrimalUser] It is recommended to call the forward network only once.\n",
      "[WARNING] OPTIMIZER(5157,7f4ea5abc740,python):2022-12-08-15:47:09.420.285 [mindspore/ccsrc/frontend/optimizer/ad/dfunctor.cc:875] GetPrimalUser] It is recommended to call the forward network only once.\n",
      "[WARNING] OPTIMIZER(5157,7f4ea5abc740,python):2022-12-08-15:47:09.420.288 [mindspore/ccsrc/frontend/optimizer/ad/dfunctor.cc:875] GetPrimalUser] It is recommended to call the forward network only once.\n",
      "[WARNING] OPTIMIZER(5157,7f4ea5abc740,python):2022-12-08-15:47:09.420.290 [mindspore/ccsrc/frontend/optimizer/ad/dfunctor.cc:875] GetPrimalUser] It is recommended to call the forward network only once.\n",
      "[WARNING] OPTIMIZER(5157,7f4ea5abc740,python):2022-12-08-15:47:09.420.293 [mindspore/ccsrc/frontend/optimizer/ad/dfunctor.cc:875] GetPrimalUser] It is recommended to call the forward network only once.\n",
      "[WARNING] OPTIMIZER(5157,7f4ea5abc740,python):2022-12-08-15:47:09.420.295 [mindspore/ccsrc/frontend/optimizer/ad/dfunctor.cc:875] GetPrimalUser] It is recommended to call the forward network only once.\n",
      "[WARNING] OPTIMIZER(5157,7f4ea5abc740,python):2022-12-08-15:47:09.420.298 [mindspore/ccsrc/frontend/optimizer/ad/dfunctor.cc:875] GetPrimalUser] It is recommended to call the forward network only once.\n",
      "[WARNING] OPTIMIZER(5157,7f4ea5abc740,python):2022-12-08-15:47:09.420.301 [mindspore/ccsrc/frontend/optimizer/ad/dfunctor.cc:875] GetPrimalUser] It is recommended to call the forward network only once.\n",
      "[WARNING] OPTIMIZER(5157,7f4ea5abc740,python):2022-12-08-15:47:09.420.303 [mindspore/ccsrc/frontend/optimizer/ad/dfunctor.cc:875] GetPrimalUser] It is recommended to call the forward network only once.\n",
      "[WARNING] OPTIMIZER(5157,7f4ea5abc740,python):2022-12-08-15:47:09.420.306 [mindspore/ccsrc/frontend/optimizer/ad/dfunctor.cc:875] GetPrimalUser] It is recommended to call the forward network only once.\n",
      "[WARNING] OPTIMIZER(5157,7f4ea5abc740,python):2022-12-08-15:47:09.420.308 [mindspore/ccsrc/frontend/optimizer/ad/dfunctor.cc:875] GetPrimalUser] It is recommended to call the forward network only once.\n",
      "[WARNING] OPTIMIZER(5157,7f4ea5abc740,python):2022-12-08-15:47:09.420.312 [mindspore/ccsrc/frontend/optimizer/ad/dfunctor.cc:875] GetPrimalUser] It is recommended to call the forward network only once.\n",
      "[WARNING] OPTIMIZER(5157,7f4ea5abc740,python):2022-12-08-15:47:09.420.314 [mindspore/ccsrc/frontend/optimizer/ad/dfunctor.cc:875] GetPrimalUser] It is recommended to call the forward network only once.\n",
      "[WARNING] OPTIMIZER(5157,7f4ea5abc740,python):2022-12-08-15:47:09.420.317 [mindspore/ccsrc/frontend/optimizer/ad/dfunctor.cc:875] GetPrimalUser] It is recommended to call the forward network only once.\n",
      "[WARNING] OPTIMIZER(5157,7f4ea5abc740,python):2022-12-08-15:47:09.420.319 [mindspore/ccsrc/frontend/optimizer/ad/dfunctor.cc:875] GetPrimalUser] It is recommended to call the forward network only once.\n",
      "[WARNING] OPTIMIZER(5157,7f4ea5abc740,python):2022-12-08-15:47:09.420.322 [mindspore/ccsrc/frontend/optimizer/ad/dfunctor.cc:875] GetPrimalUser] It is recommended to call the forward network only once.\n",
      "[WARNING] OPTIMIZER(5157,7f4ea5abc740,python):2022-12-08-15:47:09.420.324 [mindspore/ccsrc/frontend/optimizer/ad/dfunctor.cc:875] GetPrimalUser] It is recommended to call the forward network only once.\n",
      "[WARNING] OPTIMIZER(5157,7f4ea5abc740,python):2022-12-08-15:47:09.420.327 [mindspore/ccsrc/frontend/optimizer/ad/dfunctor.cc:875] GetPrimalUser] It is recommended to call the forward network only once.\n",
      "[WARNING] OPTIMIZER(5157,7f4ea5abc740,python):2022-12-08-15:47:09.420.329 [mindspore/ccsrc/frontend/optimizer/ad/dfunctor.cc:875] GetPrimalUser] It is recommended to call the forward network only once.\n",
      "[WARNING] OPTIMIZER(5157,7f4ea5abc740,python):2022-12-08-15:47:09.420.332 [mindspore/ccsrc/frontend/optimizer/ad/dfunctor.cc:875] GetPrimalUser] It is recommended to call the forward network only once.\n"
     ]
    },
    {
     "name": "stdout",
     "output_type": "stream",
     "text": [
      "Epoch: [0 / 5000] loss: 37549.863 learning_rate=0.0002\n",
      "Epoch: [250 / 5000] loss: 15827.329 learning_rate=0.00019848078289734432\n",
      "Epoch: [500 / 5000] loss: 7180.7334 learning_rate=0.00019396929223228045\n",
      "Epoch: [750 / 5000] loss: 3005.7869 learning_rate=0.000186602607365742\n",
      "Epoch: [1000 / 5000] loss: 1463.0887 learning_rate=0.00017660456128967624\n",
      "Epoch: [1250 / 5000] loss: 724.5117 learning_rate=0.0001642789395748491\n",
      "Epoch: [1500 / 5000] loss: 589.81616 learning_rate=0.00015000025000000002\n",
      "Epoch: [1750 / 5000] loss: 312.9575 learning_rate=0.00013420234332249523\n",
      "Epoch: [2000 / 5000] loss: 262.45563 learning_rate=0.00011736523094260423\n",
      "Epoch: [2250 / 5000] loss: 194.96652 learning_rate=0.00010000050000000001\n",
      "Epoch: [2500 / 5000] loss: 108.549515 learning_rate=8.263576905739581e-05\n",
      "Epoch: [2750 / 5000] loss: 108.40695 learning_rate=6.579865667750482e-05\n",
      "Epoch: [3000 / 5000] loss: 80.30163 learning_rate=5.000075000000003e-05\n",
      "Epoch: [3250 / 5000] loss: 94.54365 learning_rate=3.5722060425150914e-05\n",
      "Epoch: [3500 / 5000] loss: 120.93849 learning_rate=2.339643871032377e-05\n",
      "Epoch: [3750 / 5000] loss: 81.74458 learning_rate=1.3398392634258024e-05\n",
      "Epoch: [4000 / 5000] loss: 105.56662 learning_rate=6.031707767719561e-06\n",
      "Epoch: [4250 / 5000] loss: 71.12049 learning_rate=1.5202171026557044e-06\n",
      "Epoch: [4500 / 5000] loss: 77.35251 learning_rate=1e-09\n",
      "Epoch: [4750 / 5000] loss: 102.2038 learning_rate=1e-09\n"
     ]
    },
    {
     "name": "stderr",
     "output_type": "stream",
     "text": [
      "[WARNING] OPTIMIZER(5157,7f4ea5abc740,python):2022-12-08-16:41:01.878.745 [mindspore/ccsrc/frontend/optimizer/ad/dfunctor.cc:875] GetPrimalUser] It is recommended to call the forward network only once.\n",
      "[WARNING] OPTIMIZER(5157,7f4ea5abc740,python):2022-12-08-16:41:01.878.770 [mindspore/ccsrc/frontend/optimizer/ad/dfunctor.cc:875] GetPrimalUser] It is recommended to call the forward network only once.\n",
      "[WARNING] OPTIMIZER(5157,7f4ea5abc740,python):2022-12-08-16:41:01.878.773 [mindspore/ccsrc/frontend/optimizer/ad/dfunctor.cc:875] GetPrimalUser] It is recommended to call the forward network only once.\n",
      "[WARNING] OPTIMIZER(5157,7f4ea5abc740,python):2022-12-08-16:41:01.878.776 [mindspore/ccsrc/frontend/optimizer/ad/dfunctor.cc:875] GetPrimalUser] It is recommended to call the forward network only once.\n",
      "[WARNING] OPTIMIZER(5157,7f4ea5abc740,python):2022-12-08-16:41:01.878.779 [mindspore/ccsrc/frontend/optimizer/ad/dfunctor.cc:875] GetPrimalUser] It is recommended to call the forward network only once.\n",
      "[WARNING] OPTIMIZER(5157,7f4ea5abc740,python):2022-12-08-16:41:01.878.781 [mindspore/ccsrc/frontend/optimizer/ad/dfunctor.cc:875] GetPrimalUser] It is recommended to call the forward network only once.\n",
      "[WARNING] OPTIMIZER(5157,7f4ea5abc740,python):2022-12-08-16:41:01.878.784 [mindspore/ccsrc/frontend/optimizer/ad/dfunctor.cc:875] GetPrimalUser] It is recommended to call the forward network only once.\n",
      "[WARNING] OPTIMIZER(5157,7f4ea5abc740,python):2022-12-08-16:41:01.878.786 [mindspore/ccsrc/frontend/optimizer/ad/dfunctor.cc:875] GetPrimalUser] It is recommended to call the forward network only once.\n",
      "[WARNING] OPTIMIZER(5157,7f4ea5abc740,python):2022-12-08-16:41:01.878.789 [mindspore/ccsrc/frontend/optimizer/ad/dfunctor.cc:875] GetPrimalUser] It is recommended to call the forward network only once.\n",
      "[WARNING] OPTIMIZER(5157,7f4ea5abc740,python):2022-12-08-16:41:01.878.791 [mindspore/ccsrc/frontend/optimizer/ad/dfunctor.cc:875] GetPrimalUser] It is recommended to call the forward network only once.\n",
      "[WARNING] OPTIMIZER(5157,7f4ea5abc740,python):2022-12-08-16:41:01.878.794 [mindspore/ccsrc/frontend/optimizer/ad/dfunctor.cc:875] GetPrimalUser] It is recommended to call the forward network only once.\n",
      "[WARNING] OPTIMIZER(5157,7f4ea5abc740,python):2022-12-08-16:41:01.878.797 [mindspore/ccsrc/frontend/optimizer/ad/dfunctor.cc:875] GetPrimalUser] It is recommended to call the forward network only once.\n",
      "[WARNING] OPTIMIZER(5157,7f4ea5abc740,python):2022-12-08-16:41:01.878.799 [mindspore/ccsrc/frontend/optimizer/ad/dfunctor.cc:875] GetPrimalUser] It is recommended to call the forward network only once.\n",
      "[WARNING] OPTIMIZER(5157,7f4ea5abc740,python):2022-12-08-16:41:01.878.802 [mindspore/ccsrc/frontend/optimizer/ad/dfunctor.cc:875] GetPrimalUser] It is recommended to call the forward network only once.\n",
      "[WARNING] OPTIMIZER(5157,7f4ea5abc740,python):2022-12-08-16:41:01.878.804 [mindspore/ccsrc/frontend/optimizer/ad/dfunctor.cc:875] GetPrimalUser] It is recommended to call the forward network only once.\n",
      "[WARNING] OPTIMIZER(5157,7f4ea5abc740,python):2022-12-08-16:41:01.878.807 [mindspore/ccsrc/frontend/optimizer/ad/dfunctor.cc:875] GetPrimalUser] It is recommended to call the forward network only once.\n",
      "[WARNING] OPTIMIZER(5157,7f4ea5abc740,python):2022-12-08-16:41:01.878.809 [mindspore/ccsrc/frontend/optimizer/ad/dfunctor.cc:875] GetPrimalUser] It is recommended to call the forward network only once.\n",
      "[WARNING] OPTIMIZER(5157,7f4ea5abc740,python):2022-12-08-16:41:01.878.812 [mindspore/ccsrc/frontend/optimizer/ad/dfunctor.cc:875] GetPrimalUser] It is recommended to call the forward network only once.\n",
      "[WARNING] OPTIMIZER(5157,7f4ea5abc740,python):2022-12-08-16:41:01.878.814 [mindspore/ccsrc/frontend/optimizer/ad/dfunctor.cc:875] GetPrimalUser] It is recommended to call the forward network only once.\n",
      "[WARNING] OPTIMIZER(5157,7f4ea5abc740,python):2022-12-08-16:41:01.878.817 [mindspore/ccsrc/frontend/optimizer/ad/dfunctor.cc:875] GetPrimalUser] It is recommended to call the forward network only once.\n",
      "[WARNING] OPTIMIZER(5157,7f4ea5abc740,python):2022-12-08-16:41:01.878.819 [mindspore/ccsrc/frontend/optimizer/ad/dfunctor.cc:875] GetPrimalUser] It is recommended to call the forward network only once.\n",
      "[WARNING] OPTIMIZER(5157,7f4ea5abc740,python):2022-12-08-16:41:01.878.827 [mindspore/ccsrc/frontend/optimizer/ad/dfunctor.cc:875] GetPrimalUser] It is recommended to call the forward network only once.\n",
      "[WARNING] OPTIMIZER(5157,7f4ea5abc740,python):2022-12-08-16:41:01.878.830 [mindspore/ccsrc/frontend/optimizer/ad/dfunctor.cc:875] GetPrimalUser] It is recommended to call the forward network only once.\n",
      "[WARNING] OPTIMIZER(5157,7f4ea5abc740,python):2022-12-08-16:41:01.878.832 [mindspore/ccsrc/frontend/optimizer/ad/dfunctor.cc:875] GetPrimalUser] It is recommended to call the forward network only once.\n",
      "[WARNING] OPTIMIZER(5157,7f4ea5abc740,python):2022-12-08-16:41:01.878.835 [mindspore/ccsrc/frontend/optimizer/ad/dfunctor.cc:875] GetPrimalUser] It is recommended to call the forward network only once.\n",
      "[WARNING] OPTIMIZER(5157,7f4ea5abc740,python):2022-12-08-16:41:01.878.837 [mindspore/ccsrc/frontend/optimizer/ad/dfunctor.cc:875] GetPrimalUser] It is recommended to call the forward network only once.\n",
      "[WARNING] OPTIMIZER(5157,7f4ea5abc740,python):2022-12-08-16:41:01.878.840 [mindspore/ccsrc/frontend/optimizer/ad/dfunctor.cc:875] GetPrimalUser] It is recommended to call the forward network only once.\n",
      "[WARNING] OPTIMIZER(5157,7f4ea5abc740,python):2022-12-08-16:41:01.878.842 [mindspore/ccsrc/frontend/optimizer/ad/dfunctor.cc:875] GetPrimalUser] It is recommended to call the forward network only once.\n",
      "[WARNING] OPTIMIZER(5157,7f4ea5abc740,python):2022-12-08-16:41:01.878.845 [mindspore/ccsrc/frontend/optimizer/ad/dfunctor.cc:875] GetPrimalUser] It is recommended to call the forward network only once.\n",
      "[WARNING] OPTIMIZER(5157,7f4ea5abc740,python):2022-12-08-16:41:01.878.847 [mindspore/ccsrc/frontend/optimizer/ad/dfunctor.cc:875] GetPrimalUser] It is recommended to call the forward network only once.\n",
      "[WARNING] OPTIMIZER(5157,7f4ea5abc740,python):2022-12-08-16:41:01.878.850 [mindspore/ccsrc/frontend/optimizer/ad/dfunctor.cc:875] GetPrimalUser] It is recommended to call the forward network only once.\n",
      "[WARNING] OPTIMIZER(5157,7f4ea5abc740,python):2022-12-08-16:41:01.878.852 [mindspore/ccsrc/frontend/optimizer/ad/dfunctor.cc:875] GetPrimalUser] It is recommended to call the forward network only once.\n",
      "[WARNING] OPTIMIZER(5157,7f4ea5abc740,python):2022-12-08-16:41:01.878.855 [mindspore/ccsrc/frontend/optimizer/ad/dfunctor.cc:875] GetPrimalUser] It is recommended to call the forward network only once.\n",
      "[WARNING] OPTIMIZER(5157,7f4ea5abc740,python):2022-12-08-16:41:01.878.858 [mindspore/ccsrc/frontend/optimizer/ad/dfunctor.cc:875] GetPrimalUser] It is recommended to call the forward network only once.\n",
      "[WARNING] OPTIMIZER(5157,7f4ea5abc740,python):2022-12-08-16:41:01.878.860 [mindspore/ccsrc/frontend/optimizer/ad/dfunctor.cc:875] GetPrimalUser] It is recommended to call the forward network only once.\n",
      "[WARNING] OPTIMIZER(5157,7f4ea5abc740,python):2022-12-08-16:41:01.878.863 [mindspore/ccsrc/frontend/optimizer/ad/dfunctor.cc:875] GetPrimalUser] It is recommended to call the forward network only once.\n",
      "[WARNING] OPTIMIZER(5157,7f4ea5abc740,python):2022-12-08-16:41:01.878.865 [mindspore/ccsrc/frontend/optimizer/ad/dfunctor.cc:875] GetPrimalUser] It is recommended to call the forward network only once.\n",
      "[WARNING] OPTIMIZER(5157,7f4ea5abc740,python):2022-12-08-16:41:01.878.868 [mindspore/ccsrc/frontend/optimizer/ad/dfunctor.cc:875] GetPrimalUser] It is recommended to call the forward network only once.\n",
      "[WARNING] OPTIMIZER(5157,7f4ea5abc740,python):2022-12-08-16:41:01.878.870 [mindspore/ccsrc/frontend/optimizer/ad/dfunctor.cc:875] GetPrimalUser] It is recommended to call the forward network only once.\n",
      "[WARNING] OPTIMIZER(5157,7f4ea5abc740,python):2022-12-08-16:41:01.878.873 [mindspore/ccsrc/frontend/optimizer/ad/dfunctor.cc:875] GetPrimalUser] It is recommended to call the forward network only once.\n",
      "[WARNING] OPTIMIZER(5157,7f4ea5abc740,python):2022-12-08-16:41:01.878.875 [mindspore/ccsrc/frontend/optimizer/ad/dfunctor.cc:875] GetPrimalUser] It is recommended to call the forward network only once.\n",
      "[WARNING] OPTIMIZER(5157,7f4ea5abc740,python):2022-12-08-16:41:01.878.879 [mindspore/ccsrc/frontend/optimizer/ad/dfunctor.cc:875] GetPrimalUser] It is recommended to call the forward network only once.\n",
      "[WARNING] OPTIMIZER(5157,7f4ea5abc740,python):2022-12-08-16:41:01.878.881 [mindspore/ccsrc/frontend/optimizer/ad/dfunctor.cc:875] GetPrimalUser] It is recommended to call the forward network only once.\n",
      "[WARNING] OPTIMIZER(5157,7f4ea5abc740,python):2022-12-08-16:41:01.878.884 [mindspore/ccsrc/frontend/optimizer/ad/dfunctor.cc:875] GetPrimalUser] It is recommended to call the forward network only once.\n",
      "[WARNING] OPTIMIZER(5157,7f4ea5abc740,python):2022-12-08-16:41:01.878.886 [mindspore/ccsrc/frontend/optimizer/ad/dfunctor.cc:875] GetPrimalUser] It is recommended to call the forward network only once.\n",
      "[WARNING] OPTIMIZER(5157,7f4ea5abc740,python):2022-12-08-16:41:01.878.889 [mindspore/ccsrc/frontend/optimizer/ad/dfunctor.cc:875] GetPrimalUser] It is recommended to call the forward network only once.\n",
      "[WARNING] OPTIMIZER(5157,7f4ea5abc740,python):2022-12-08-16:41:01.878.891 [mindspore/ccsrc/frontend/optimizer/ad/dfunctor.cc:875] GetPrimalUser] It is recommended to call the forward network only once.\n",
      "[WARNING] OPTIMIZER(5157,7f4ea5abc740,python):2022-12-08-16:41:01.878.894 [mindspore/ccsrc/frontend/optimizer/ad/dfunctor.cc:875] GetPrimalUser] It is recommended to call the forward network only once.\n",
      "[WARNING] OPTIMIZER(5157,7f4ea5abc740,python):2022-12-08-16:41:01.878.897 [mindspore/ccsrc/frontend/optimizer/ad/dfunctor.cc:875] GetPrimalUser] It is recommended to call the forward network only once.\n",
      "[WARNING] OPTIMIZER(5157,7f4ea5abc740,python):2022-12-08-16:41:01.878.899 [mindspore/ccsrc/frontend/optimizer/ad/dfunctor.cc:875] GetPrimalUser] It is recommended to call the forward network only once.\n"
     ]
    },
    {
     "name": "stdout",
     "output_type": "stream",
     "text": [
      "Epoch: [0 / 1000] loss: 190.46864 learning_rate=1e-05\n",
      "Epoch: [100 / 1000] loss: 66.27594 learning_rate=9.755307053217622e-06\n",
      "Epoch: [200 / 1000] loss: 106.11043 learning_rate=9.04518046337755e-06\n",
      "Epoch: [300 / 1000] loss: 73.14998 learning_rate=7.93913236883622e-06\n",
      "Epoch: [400 / 1000] loss: 88.20503 learning_rate=6.54543046337755e-06\n",
      "Epoch: [500 / 1000] loss: 86.89305 learning_rate=5.0005e-06\n",
      "Epoch: [600 / 1000] loss: 63.542793 learning_rate=3.455569536622451e-06\n",
      "Epoch: [700 / 1000] loss: 65.06239 learning_rate=2.061867631163781e-06\n",
      "Epoch: [800 / 1000] loss: 173.83148 learning_rate=9.558195366224508e-07\n",
      "Epoch: [900 / 1000] loss: 53.055748 learning_rate=2.4569294678237995e-07\n"
     ]
    }
   ],
   "source": [
    "epochs = 5000\n",
    "lr = nn.cosine_decay_lr(min_lr=1e-9, max_lr=2e-4, total_step=epochs, \n",
    "                        step_per_epoch=1, decay_epoch=epochs-500)\n",
    "bsb_model.train(epochs=epochs, learning_rate=lr, per_print_times=250, verbose=True)\n",
    "epochs = 1000\n",
    "lr = nn.cosine_decay_lr(min_lr=1e-9, max_lr=1e-5, total_step=epochs, \n",
    "                        step_per_epoch=1, decay_epoch=epochs)\n",
    "bsb_model.train(epochs=epochs, learning_rate=lr, per_print_times=100, verbose=True)"
   ]
  },
  {
   "cell_type": "code",
   "execution_count": 13,
   "id": "d2a6c8b6",
   "metadata": {},
   "outputs": [],
   "source": [
    "ms.save_checkpoint(bsb_model.sde_path.sde_net, 'src/bsde_bsb_model_100d_4sin2_64_512.ckpt')"
   ]
  },
  {
   "cell_type": "code",
   "execution_count": 14,
   "id": "f54dbef7",
   "metadata": {},
   "outputs": [
    {
     "data": {
      "text/plain": [
       "[]"
      ]
     },
     "execution_count": 14,
     "metadata": {},
     "output_type": "execute_result"
    }
   ],
   "source": [
    "net_param_dict = ms.load_checkpoint(\"src/bsde_bsb_model_100d_4sin2_64_512.ckpt\")\n",
    "ms.load_param_into_net(bsb_model.sde_path.sde_net, net_param_dict)"
   ]
  },
  {
   "cell_type": "markdown",
   "id": "ead56925",
   "metadata": {},
   "source": [
    "### 推理与评估"
   ]
  },
  {
   "cell_type": "markdown",
   "id": "b334fe8e",
   "metadata": {},
   "source": [
    "在训练结束后，给定任意时间戳和累计布朗运动训练，通过调用approximate_path()，即可获得$X_t$和$Y_t$的时间序列。"
   ]
  },
  {
   "cell_type": "code",
   "execution_count": 15,
   "id": "5a9912a5",
   "metadata": {},
   "outputs": [],
   "source": [
    "obj, der, der_price = bsb_model.approximate_path(times, ew)  # (batch, t+1, 1), (batch, t+1, dim)"
   ]
  },
  {
   "cell_type": "markdown",
   "id": "f036e96f",
   "metadata": {},
   "source": [
    "我们利用BlackScholesBarenblatt的解析解对训练的结果进行验证。"
   ]
  },
  {
   "cell_type": "code",
   "execution_count": 16,
   "id": "6ce787e2",
   "metadata": {},
   "outputs": [],
   "source": [
    "def bsb_exact(t, x):  # (n2_time+1, 1), (n2_time+1, dim)\n",
    "    r = param_dict['no_risk_rate']\n",
    "    sigma_max = param_dict['volatility']\n",
    "    return np.exp((r + (sigma_max ** 2)) * (terminal_time - t)) * np.expand_dims((x ** 2).sum(axis=1), axis=1)\n",
    "    # (n_time+1, 1)\n",
    "\n",
    "ground_der = bsb_exact(np.reshape(times, (-1, 1)), np.reshape(obj, (-1, dim))).\\\n",
    "                reshape(batch_size, n_time + 1, 1)"
   ]
  },
  {
   "cell_type": "markdown",
   "id": "048f78f5",
   "metadata": {},
   "source": [
    "将其可视化如下："
   ]
  },
  {
   "cell_type": "code",
   "execution_count": 19,
   "id": "353b004f",
   "metadata": {},
   "outputs": [
    {
     "data": {
      "text/plain": [
       "<matplotlib.legend.Legend at 0x7f4da5508700>"
      ]
     },
     "execution_count": 19,
     "metadata": {},
     "output_type": "execute_result"
    },
    {
     "data": {
      "image/png": "[encoded data removed]",
      "text/plain": [
       "<Figure size 576x432 with 1 Axes>"
      ]
     },
     "metadata": {
      "needs_background": "light"
     },
     "output_type": "display_data"
    }
   ],
   "source": [
    "n_display = 6\n",
    "fig = plt.figure(figsize=(8, 6))\n",
    "plt.plot(times[0, :, 0].asnumpy(), der[0, :, 0].asnumpy(), color='b', label='Learned $u(t,X_t)$')\n",
    "plt.plot(times[0, :, 0].asnumpy(), ground_der[0, :, 0].asnumpy(), color='r', linestyle='--',\n",
    "        label='Exact $u(t,X_t)$')\n",
    "plt.scatter(times[0:1, -1, 0].asnumpy(), ground_der[0:1, -1, 0].asnumpy(), marker='o', label='$Y_T = u(T,X_T)$')\n",
    "for i in range(1, n_display):\n",
    "    plt.plot(times[i, :, 0].asnumpy(), der[i, :, 0].asnumpy(), color='b')\n",
    "    plt.plot(times[i, :, 0].asnumpy(), ground_der[i, :, 0].asnumpy(), color='r', linestyle='--')\n",
    "    plt.scatter(times[i:i + 1, -1, 0].asnumpy(), ground_der[i:i + 1, -1, 0].asnumpy(), marker='o')\n",
    "plt.scatter(ms.Tensor([0]).asnumpy(), ground_der[0:1, 0, 0].asnumpy(), marker='x', label='$Y_0 = u(0,X_0)$')\n",
    "plt.xlabel('$t$')\n",
    "plt.ylabel('$Y_t = u(t,X_t)$')\n",
    "plt.title('100-dimensional Black-Scholes-Barenblatt')\n",
    "plt.legend()"
   ]
  },
  {
   "cell_type": "markdown",
   "id": "b4f3e46b",
   "metadata": {},
   "source": [
    "最后，我们求解相对误差，以直观的展现误差在生成序列中的分布状况："
   ]
  },
  {
   "cell_type": "code",
   "execution_count": 18,
   "id": "a8348c2d",
   "metadata": {},
   "outputs": [
    {
     "data": {
      "image/png": "[encoded data removed]",
      "text/plain": [
       "<Figure size 576x432 with 1 Axes>"
      ]
     },
     "metadata": {
      "needs_background": "light"
     },
     "output_type": "display_data"
    }
   ],
   "source": [
    "errors = np.sqrt((ground_der - der) ** 2 / ground_der ** 2)\n",
    "mean_errors = np.mean(errors, 0)\n",
    "std_errors = np.std(errors, 0)\n",
    "fig = plt.figure(figsize=(8, 6))\n",
    "plt.plot(times[0, :, 0].asnumpy(), mean_errors.asnumpy(), color='b', label='mean')\n",
    "plt.plot(times[0, :, 0].asnumpy(), mean_errors.asnumpy() + 2 * std_errors.asnumpy(), color='r', linestyle='--',\n",
    "        label='mean + two standard deviations')\n",
    "plt.xlabel('$t$')\n",
    "plt.ylabel('relative error')\n",
    "plt.title('100-dimensional Black-Scholes-Barenblatt')\n",
    "plt.legend()\n",
    "plt.show()"
   ]
  },
  {
   "cell_type": "markdown",
   "id": "bff569bc",
   "metadata": {},
   "source": [
    "可以看到，我们对初始时刻$Y_0$的估计相对误差在3\\%左右，故模型成功实现了对BSDE问题的求解。"
   ]
  }
 ],
 "metadata": {
  "kernelspec": {
   "display_name": "Python 3 (ipykernel)",
   "language": "python",
   "name": "python3"
  },
  "language_info": {
   "codemirror_mode": {
    "name": "ipython",
    "version": 3
   },
   "file_extension": ".py",
   "mimetype": "text/x-python",
   "name": "python",
   "nbconvert_exporter": "python",
   "pygments_lexer": "ipython3",
   "version": "3.9.12"
  }
 },
 "nbformat": 4,
 "nbformat_minor": 5
}
