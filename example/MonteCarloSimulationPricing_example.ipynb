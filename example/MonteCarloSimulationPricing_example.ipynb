{
 "cells": [
  {
   "cell_type": "markdown",
   "metadata": {},
   "source": [
    "Copyright 2022 Huawei TECHNOLOGIES CO.LTD\n",
    "Licensed under the Apache License, Version 2.0 (the \"License\");"
   ]
  },
  {
   "cell_type": "code",
   "execution_count": null,
   "metadata": {},
   "outputs": [],
   "source": [
    "#@title Licensed under the Apache License, Version 2.0 (the \"License\"); { display-mode: \"form\" }\n",
    "# you may not use this file except in compliance with the License.\n",
    "# You may obtain a copy of the License at\n",
    "#\n",
    "# https://www.apache.org/licenses/LICENSE-2.0\n",
    "#\n",
    "# Unless required by applicable law or agreed to in writing, software\n",
    "# distributed under the License is distributed on an \"AS IS\" BASIS,\n",
    "# WITHOUT WARRANTIES OR CONDITIONS OF ANY KIND, either express or implied.\n",
    "# See the License for the specific language governing permissions and\n",
    "# limitations under the License."
   ]
  },
  {
   "cell_type": "markdown",
   "metadata": {
    "id": "yhuwEn2XjxnV"
   },
   "source": [
    "# 基于布朗运动模型的欧式期权蒙特卡洛求解(MonteCarloSimulationPricing)"
   ]
  },
  {
   "cell_type": "code",
   "execution_count": 15,
   "metadata": {
    "colab": {
     "base_uri": "https://localhost:8080/",
     "height": 561
    },
    "id": "K1eZVbCBJzxy",
    "outputId": "0f1fa88c-2665-4a60-f3bb-182c2c896ac3"
   },
   "outputs": [
    {
     "name": "stdout",
     "output_type": "stream",
     "text": [
      "Looking in indexes: https://pypi.org/simple, https://us-python.pkg.dev/colab-wheels/public/simple/\n",
      "Collecting mindspore-gpu\n",
      "  Downloading mindspore_gpu-1.8.1-cp37-cp37m-manylinux1_x86_64.whl (337.4 MB)\n",
      "\u001b[K     |████████████████████████████████| 337.4 MB 16 kB/s \n",
      "\u001b[?25hRequirement already satisfied: protobuf>=3.13.0 in /usr/local/lib/python3.7/dist-packages (from mindspore-gpu) (3.17.3)\n",
      "Requirement already satisfied: packaging>=20.0 in /usr/local/lib/python3.7/dist-packages (from mindspore-gpu) (21.3)\n",
      "Collecting psutil>=5.6.1\n",
      "  Downloading psutil-5.9.2-cp37-cp37m-manylinux_2_12_x86_64.manylinux2010_x86_64.manylinux_2_17_x86_64.manylinux2014_x86_64.whl (281 kB)\n",
      "\u001b[K     |████████████████████████████████| 281 kB 58.2 MB/s \n",
      "\u001b[?25hCollecting asttokens>=2.0.0\n",
      "  Downloading asttokens-2.0.8-py2.py3-none-any.whl (23 kB)\n",
      "Requirement already satisfied: numpy>=1.17.0 in /usr/local/lib/python3.7/dist-packages (from mindspore-gpu) (1.21.6)\n",
      "Requirement already satisfied: pillow>=6.2.0 in /usr/local/lib/python3.7/dist-packages (from mindspore-gpu) (7.1.2)\n",
      "Requirement already satisfied: scipy>=1.5.2 in /usr/local/lib/python3.7/dist-packages (from mindspore-gpu) (1.7.3)\n",
      "Requirement already satisfied: astunparse>=1.3 in /usr/local/lib/python3.7/dist-packages (from mindspore-gpu) (1.6.3)\n",
      "Requirement already satisfied: six in /usr/local/lib/python3.7/dist-packages (from asttokens>=2.0.0->mindspore-gpu) (1.15.0)\n",
      "Requirement already satisfied: wheel<1.0,>=0.23.0 in /usr/local/lib/python3.7/dist-packages (from astunparse>=1.3->mindspore-gpu) (0.37.1)\n",
      "Requirement already satisfied: pyparsing!=3.0.5,>=2.0.2 in /usr/local/lib/python3.7/dist-packages (from packaging>=20.0->mindspore-gpu) (3.0.9)\n",
      "Installing collected packages: psutil, asttokens, mindspore-gpu\n",
      "  Attempting uninstall: psutil\n",
      "    Found existing installation: psutil 5.4.8\n",
      "    Uninstalling psutil-5.4.8:\n",
      "      Successfully uninstalled psutil-5.4.8\n",
      "Successfully installed asttokens-2.0.8 mindspore-gpu-1.8.1 psutil-5.9.2\n"
     ]
    },
    {
     "data": {
      "application/vnd.colab-display-data+json": {
       "pip_warning": {
        "packages": [
         "psutil"
        ]
       }
      }
     },
     "metadata": {},
     "output_type": "display_data"
    }
   ],
   "source": [
    "pip install mindspore-gpu"
   ]
  },
  {
   "cell_type": "code",
   "execution_count": null,
   "metadata": {
    "id": "eGyRrTkFqrW5"
   },
   "outputs": [],
   "source": [
    "# !pip install --upgrade mindspore\n",
    "# !pip install mind-quant-finance\n",
    "# @title temporary install\n",
    "!pip install -e. --upgrade"
   ]
  },
  {
   "cell_type": "markdown",
   "metadata": {
    "id": "a8oyMRDxyJBx"
   },
   "source": [
    "如果您的环境并未本地安装此第三方库，请确保您的运行目录在mind-quant-finance上，对此您可以本地调用"
   ]
  },
  {
   "cell_type": "code",
   "execution_count": 12,
   "metadata": {
    "id": "LGZp4AM_kdHn"
   },
   "outputs": [
    {
     "name": "stderr",
     "output_type": "stream",
     "text": [
      "[WARNING] ME(686459:139995613804352,MainProcess):2022-10-16-14:13:51.469.536 [mindspore/run_check/_check_version.py:140] MindSpore version 1.7.0 and cuda version 11.2.72 does not match, please refer to the installation guide for version matching information: https://www.mindspore.cn/install\n"
     ]
    }
   ],
   "source": [
    "#import matplotlib.pyplot as plt #可用于数据可视化\n",
    "from concurrent.futures import process\n",
    "import argparse\n",
    "import time\n",
    "import mindspore.context as context\n",
    "from mind_quant_finance.engine.mc.MonteCarloSimulationPricing import MonteCarloSimulationPricing"
   ]
  },
  {
   "cell_type": "markdown",
   "metadata": {
    "id": "-RYg86M1y3YY"
   },
   "source": [
    "## 基于布朗运动模型的欧式期权蒙特卡洛模拟方法\n",
    "此函数可以返回两个或三个张量（MindSpore格式的矩阵）、“期权价格”、“期权价值”以及一个“期权价格变化过程”矩阵（可选）\n",
    "### 公式如下：\n",
    "由``d_St=（r-q）* St* dt+σ* St* dzt ``\n",
    "\n",
    "可得 ``△St=St* （r-q）* △t+σ* St* ε* √(△t)``\n",
    "\n",
    "其中：\n",
    "\n",
    "\"△St\"为期权在t时刻的价格与在t-1时刻的价格之差，\n",
    "\"St\"为期权在t时刻的价格，\n",
    "\"r\"为连续复合无风险利率，\n",
    "\"q\"为期权红利率，若期权无红利，则q=0，\n",
    "\"△t\"为单位时间步长，一般设置为1，\n",
    "\"σ\"为期权波动率，一般由该期权历史变动幅度所决定，也可能为估计得出，\n",
    "\n",
    "此外，为了计算一些受价格限制的证券产品的价格变化率，取上面公式两边的对数定义算子\n"
   ]
  },
  {
   "cell_type": "markdown",
   "metadata": {
    "id": "GYKGbxqh6dzI"
   },
   "source": [
    "## 基于Mind-Quant-Finance的MonteCarloSimulationPricing方法模拟计算期权价格\n",
    "\n",
    "### 求解器参数\n",
    "您可以使用``mce=MonteCarloSimulationPricing(dim=1,batchsize=1,num_paths=1000,Process=False)``定义求解器\n",
    "\n",
    "其中：\n",
    "dim（int）：维度；期权资产数量。\n",
    "batchsize（int）：模拟环境的个数。每个模拟的宏观环境都是恒定的（您可以理解相同的宏观经济环境：增长、衰退、萧条和繁荣）。当前未定义不同宏观环境，当batchsize=n时，仅相当于模拟了每个期权模拟了n*num_paths次\n",
    "num_paths（int）：每个batchsize大小中的模拟数。\n",
    "Process（Bool）：是否输出价格变化过程，可用于数据导出和可视化。\n",
    "支持的平台：\n",
    "``GPU``\n",
    "### 输入参数求解\n",
    "你可以使用以下示例``out=mce.construct(pv=[30],sigma=[0.2],q=[0.01],rf=[0.05],num_timesteps=365,dt=1)``进行期权价格求解\n",
    "\n",
    "其中：\n",
    "pv：各个期权当前价值，现值；大小为1*dim。\n",
    "sigma：各个期权预估波动率；大小为1*dim。\n",
    "q：各个期权红利率；大小为1*dim。\n",
    "rf：各个期权的无风险收益率；同一国家或地区无风险收益率一般相同，大小为1*dim。\n",
    "num_timesteps:模拟时间次数或长度。\n",
    "dt：单位时间步长，默认为1，即1天。\n",
    "## 求解示例\n",
    "示例一：\n",
    "求解某无红利现值为30、波动率为20%的欧式期权，在市场无风险利率为5%，以单位时间1为时间步长模拟365天，该期权的模拟价值和价格；对此，您希望模拟出1个大环境的1000次结果"
   ]
  },
  {
   "cell_type": "code",
   "execution_count": 23,
   "metadata": {
    "id": "l92AHdYcDREM"
   },
   "outputs": [],
   "source": [
    "context.set_context(\n",
    "        mode=context.GRAPH_MODE,\n",
    "        device_target=\"GPU\",\n",
    "        device_id=0,\n",
    "        save_graphs=False\n",
    ")"
   ]
  },
  {
   "cell_type": "code",
   "execution_count": 24,
   "metadata": {
    "id": "osqVC3QBs1HW"
   },
   "outputs": [
    {
     "name": "stderr",
     "output_type": "stream",
     "text": [
      "[WARNING] KERNEL(686459,7f5344d4b740,python):2022-10-16-14:26:10.383.082 [mindspore/ccsrc/plugin/device/gpu/kernel/gpu_kernel_factory.cc:93] ReducePrecision] Kernel [StandardNormal] does not support int64, cast input 0 to int32.\n",
      "[WARNING] PRE_ACT(686459,7f5344d4b740,python):2022-10-16-14:26:10.383.638 [mindspore/ccsrc/plugin/device/gpu/optimizer/reduce_precision_fusion.cc:84] Run] Reduce precision for [StandardNormal] input 0\n"
     ]
    },
    {
     "name": "stdout",
     "output_type": "stream",
     "text": [
      "(Tensor(shape=[1, 1000, 1], dtype=Float32, value=\n",
      "[[[ 3.04653076e+02],\n",
      "  [ 4.29601990e+02],\n",
      "  [ 2.81714844e+02],\n",
      "  ...\n",
      "  [ 3.32874207e+02],\n",
      "  [ 3.17451569e+02],\n",
      "  [ 4.10531799e+02]]]), Tensor(shape=[1, 1000, 1], dtype=Float32, value=\n",
      "[[[ 2.74653076e+02],\n",
      "  [ 3.99601990e+02],\n",
      "  [ 2.51714844e+02],\n",
      "  ...\n",
      "  [ 3.02874207e+02],\n",
      "  [ 2.87451569e+02],\n",
      "  [ 3.80531799e+02]]]))\n"
     ]
    }
   ],
   "source": [
    "mce=MonteCarloSimulationPricing(dim=1,batchsize=1,num_paths=1000)\n",
    "out=mce.construct(pv=[30],sigma=[0.2],q=[0.],rf=[0.05],num_timesteps=365,dt=1)\n",
    "print(out)"
   ]
  },
  {
   "cell_type": "markdown",
   "metadata": {
    "id": "xgyhg9O-IenZ"
   },
   "source": [
    "示例二：\n",
    "\n",
    "求解某有红利现值为30、波动率为20%，红利率为1%的欧式期权，在市场无风险利率为5%，以单位时间1为时间步长模拟365天，该期权的模拟价值和价格:对此，您希望模拟出1个大环境的1000次结果，并希望得到模拟过程的价值"
   ]
  },
  {
   "cell_type": "code",
   "execution_count": 25,
   "metadata": {
    "id": "nI80NPSQCpWu"
   },
   "outputs": [
    {
     "name": "stderr",
     "output_type": "stream",
     "text": [
      "[WARNING] KERNEL(686459,7f5344d4b740,python):2022-10-16-14:26:13.447.270 [mindspore/ccsrc/plugin/device/gpu/kernel/gpu_kernel_factory.cc:93] ReducePrecision] Kernel [StandardNormal] does not support int64, cast input 0 to int32.\n",
      "[WARNING] PRE_ACT(686459,7f5344d4b740,python):2022-10-16-14:26:13.447.431 [mindspore/ccsrc/plugin/device/gpu/optimizer/reduce_precision_fusion.cc:84] Run] Reduce precision for [StandardNormal] input 0\n"
     ]
    },
    {
     "name": "stdout",
     "output_type": "stream",
     "text": [
      "(Tensor(shape=[1, 1000, 1], dtype=Float32, value=\n",
      "[[[ 2.77308929e+02],\n",
      "  [ 4.46287079e+02],\n",
      "  [ 2.43178848e+02],\n",
      "  ...\n",
      "  [ 4.24724792e+02],\n",
      "  [ 1.17911682e+02],\n",
      "  [-9.23774796e+01]]]), Tensor(shape=[1, 1000, 1], dtype=Float32, value=\n",
      "[[[ 2.47308929e+02],\n",
      "  [ 4.16287079e+02],\n",
      "  [ 2.13178848e+02],\n",
      "  ...\n",
      "  [ 3.94724792e+02],\n",
      "  [ 8.79116821e+01],\n",
      "  [-1.22377480e+02]]]), Tensor(shape=[1, 1000, 365, 1], dtype=Float32, value=\n",
      "[[[[ 2.51600914e+01],\n",
      "   [ 2.37380123e+01],\n",
      "   [ 3.19897518e+01],\n",
      "   ...\n",
      "   [ 2.60247879e+01],\n",
      "   [ 3.38967819e+01],\n",
      "   [ 3.05550537e+01]],\n",
      "  [[ 2.97146549e+01],\n",
      "   [ 2.67939625e+01],\n",
      "   [ 3.41790924e+01],\n",
      "   ...\n",
      "   [ 3.40802578e+04],\n",
      "   [ 2.47809492e+04],\n",
      "   [ 2.36146660e+04]],\n",
      "  [[ 3.17810936e+01],\n",
      "   [ 3.31469154e+01],\n",
      "   [ 3.22763901e+01],\n",
      "   ...\n",
      "   [ 9.92917633e+00],\n",
      "   [ 8.37481308e+00],\n",
      "   [ 8.34232521e+00]],\n",
      "  ...\n",
      "  [[ 1.70924129e+01],\n",
      "   [ 2.03536491e+01],\n",
      "   [ 2.16285191e+01],\n",
      "   ...\n",
      "   [ 6.82703955e+03],\n",
      "   [ 8.06387207e+03],\n",
      "   [ 9.22520020e+03]],\n",
      "  [[ 2.92276535e+01],\n",
      "   [ 2.47290230e+01],\n",
      "   [ 1.95868855e+01],\n",
      "   ...\n",
      "   [ 2.41684169e-01],\n",
      "   [ 1.70749962e-01],\n",
      "   [ 1.94246009e-01]],\n",
      "  [[ 3.32985916e+01],\n",
      "   [ 3.27300491e+01],\n",
      "   [ 4.07583656e+01],\n",
      "   ...\n",
      "   [ 1.66549566e-04],\n",
      "   [ 1.61895267e-04],\n",
      "   [ 1.65048157e-04]]]]))\n"
     ]
    }
   ],
   "source": [
    "mce=MonteCarloSimulationPricing(dim=1,batchsize=1,num_paths=1000,Process=True)\n",
    "out=mce.construct(pv=[30],sigma=[0.2],q=[0.01],rf=[0.05],num_timesteps=365,dt=1)\n",
    "print(out)"
   ]
  },
  {
   "cell_type": "markdown",
   "metadata": {
    "id": "c43_RUiyLcfx"
   },
   "source": [
    "示例三：\n",
    "\n",
    "求解某有红利现值为30、波动率为20%，红利率为1%的欧式期权A，和无红利现值为20、波动率为10%的欧式期权B，在涨跌幅限制为10%的环境中，第一天市场无风险利率为5%，第二天市场无风险利率为4%，以单位时间1为时间步长模拟2天，该期权的模拟价值和价格:对此，您希望模拟出1个大环境的1000次结果，并希望得到模拟过程的价值"
   ]
  },
  {
   "cell_type": "code",
   "execution_count": 26,
   "metadata": {
    "id": "IpN3hU_XLn90"
   },
   "outputs": [
    {
     "name": "stdout",
     "output_type": "stream",
     "text": [
      "(Tensor(shape=[1, 1000, 2], dtype=Float32, value=\n",
      "[[[ 3.09601231e+01,  2.01757984e+01],\n",
      "  [ 2.78259506e+01,  2.40000000e+01],\n",
      "  [ 2.86052151e+01,  2.34910393e+01],\n",
      "  ...\n",
      "  [ 3.60000000e+01,  2.40000000e+01],\n",
      "  [ 3.50224876e+01,  1.86110210e+01],\n",
      "  [ 3.55174561e+01,  2.05344372e+01]]]), Tensor(shape=[1, 1000, 2], dtype=Float32, value=\n",
      "[[[ 9.60123062e-01,  1.75798416e-01],\n",
      "  [-2.17404938e+00,  4.00000000e+00],\n",
      "  [-1.39478493e+00,  3.49103928e+00],\n",
      "  ...\n",
      "  [ 6.00000000e+00,  4.00000000e+00],\n",
      "  [ 5.02248764e+00, -1.38897896e+00],\n",
      "  [ 5.51745605e+00,  5.34437180e-01]]]), Tensor(shape=[1, 1000, 2, 2], dtype=Float32, value=\n",
      "[[[[ 2.79601250e+01,  1.99281883e+01],\n",
      "   [ 3.07561378e+01,  2.01749096e+01]],\n",
      "  [[ 3.01631680e+01,  2.20000000e+01],\n",
      "   [ 2.78132401e+01,  2.42000008e+01]],\n",
      "  [[ 2.96654358e+01,  2.14910412e+01],\n",
      "   [ 2.86170387e+01,  2.36401463e+01]],\n",
      "  ...\n",
      "  [[ 3.30000000e+01,  2.20000000e+01],\n",
      "   [ 3.62999992e+01,  2.42000008e+01]],\n",
      "  [[ 3.20224838e+01,  1.91290245e+01],\n",
      "   [ 3.52247314e+01,  1.86335812e+01]],\n",
      "  [[ 3.30000000e+01,  1.85344353e+01],\n",
      "   [ 3.57692032e+01,  2.03878784e+01]]]]))\n"
     ]
    },
    {
     "name": "stderr",
     "output_type": "stream",
     "text": [
      "[WARNING] KERNEL(686459,7f5344d4b740,python):2022-10-16-14:26:24.847.908 [mindspore/ccsrc/plugin/device/gpu/kernel/gpu_kernel_factory.cc:93] ReducePrecision] Kernel [StandardNormal] does not support int64, cast input 0 to int32.\n",
      "[WARNING] PRE_ACT(686459,7f5344d4b740,python):2022-10-16-14:26:24.848.058 [mindspore/ccsrc/plugin/device/gpu/optimizer/reduce_precision_fusion.cc:84] Run] Reduce precision for [StandardNormal] input 0\n"
     ]
    }
   ],
   "source": [
    "mce=MonteCarloSimulationPricing(dim=2,batchsize=1,num_paths=1000,Process=True)\n",
    "out=mce.construct(pv=[30,20],sigma=[0.2,0.1],q=[0.01,0.],rf=[0.05,0.04],num_timesteps=2,dt=1,lr=0.1)\n",
    "print(out)"
   ]
  }
 ],
 "metadata": {
  "colab": {
   "collapsed_sections": [],
   "provenance": []
  },
  "kernelspec": {
   "display_name": "Python 3 (ipykernel)",
   "language": "python",
   "name": "python3"
  },
  "language_info": {
   "codemirror_mode": {
    "name": "ipython",
    "version": 3
   },
   "file_extension": ".py",
   "mimetype": "text/x-python",
   "name": "python",
   "nbconvert_exporter": "python",
   "pygments_lexer": "ipython3",
   "version": "3.9.12"
  }
 },
 "nbformat": 4,
 "nbformat_minor": 1
}
